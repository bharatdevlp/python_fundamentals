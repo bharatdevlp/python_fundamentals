{
 "cells": [
  {
   "cell_type": "code",
   "execution_count": 1,
   "metadata": {},
   "outputs": [
    {
     "name": "stdout",
     "output_type": "stream",
     "text": [
      "['anil', 'sunil', 'rosan', 'baij', 'mohan', 'vikas', 'baij']\n"
     ]
    }
   ],
   "source": [
    "students=['anil','sunil','rosan','baij','mohan','vikas','baij']\n",
    "print(students)\n"
   ]
  },
  {
   "cell_type": "code",
   "execution_count": 10,
   "metadata": {},
   "outputs": [
    {
     "name": "stdout",
     "output_type": "stream",
     "text": [
      "you are doing a good job , anil\n"
     ]
    }
   ],
   "source": [
    "print(f'you are doing a good job ,',students[0])\n"
   ]
  },
  {
   "cell_type": "code",
   "execution_count": 14,
   "metadata": {},
   "outputs": [
    {
     "name": "stdout",
     "output_type": "stream",
     "text": [
      "['anil', 'sunil', 'rosan', 'baij', 'mohan', 'vikas', 'baij']\n",
      "['anil', 'sunil', 'rosan', 'baij', 'mohan', 'vikas', 'baij']\n",
      "['anil', 'sunil', 'rosan', 'baij', 'mohan', 'vikas', 'baij']\n",
      "['anil', 'sunil', 'rosan', 'baij', 'mohan', 'vikas', 'baij']\n",
      "['anil', 'sunil', 'rosan', 'baij', 'mohan', 'vikas', 'baij']\n",
      "['anil', 'sunil', 'rosan', 'baij', 'mohan', 'vikas', 'baij']\n",
      "['anil', 'sunil', 'rosan', 'baij', 'mohan', 'vikas', 'baij']\n"
     ]
    }
   ],
   "source": [
    "for stu in students:\n",
    "    print(students)\n",
    "    "
   ]
  },
  {
   "cell_type": "code",
   "execution_count": 17,
   "metadata": {},
   "outputs": [
    {
     "name": "stdout",
     "output_type": "stream",
     "text": [
      "anil\n",
      "sunil\n",
      "rosan\n",
      "baij\n",
      "mohan\n",
      "vikas\n",
      "baij\n"
     ]
    }
   ],
   "source": [
    "for stu in students:\n",
    "    print(stu)\n",
    "    "
   ]
  },
  {
   "cell_type": "code",
   "execution_count": 19,
   "metadata": {},
   "outputs": [
    {
     "name": "stdout",
     "output_type": "stream",
     "text": [
      "you are doing a good job  ,anil\n",
      "you are doing a good job  ,sunil\n",
      "you are doing a good job  ,rosan\n",
      "you are doing a good job  ,baij\n",
      "you are doing a good job  ,mohan\n",
      "you are doing a good job  ,vikas\n",
      "you are doing a good job  ,baij\n"
     ]
    }
   ],
   "source": [
    "for stu in students:\n",
    "    print(f'you are doing a good job  ,{stu}')\n",
    "    "
   ]
  },
  {
   "cell_type": "code",
   "execution_count": 20,
   "metadata": {},
   "outputs": [
    {
     "name": "stdout",
     "output_type": "stream",
     "text": [
      "keep up the good work  ,anil\n",
      "looking forward to receive all your file today  ,anil\n",
      "keep up the good work  ,sunil\n",
      "looking forward to receive all your file today  ,sunil\n",
      "keep up the good work  ,rosan\n",
      "looking forward to receive all your file today  ,rosan\n",
      "keep up the good work  ,baij\n",
      "looking forward to receive all your file today  ,baij\n",
      "keep up the good work  ,mohan\n",
      "looking forward to receive all your file today  ,mohan\n",
      "keep up the good work  ,vikas\n",
      "looking forward to receive all your file today  ,vikas\n",
      "keep up the good work  ,baij\n",
      "looking forward to receive all your file today  ,baij\n"
     ]
    }
   ],
   "source": [
    "for stu in students:\n",
    "    print(f'keep up the good work  ,{stu}')\n",
    "    print(f'looking forward to receive all your file today  ,{stu}')"
   ]
  },
  {
   "cell_type": "code",
   "execution_count": 23,
   "metadata": {},
   "outputs": [
    {
     "name": "stdout",
     "output_type": "stream",
     "text": [
      "keep up the good work  ,anil\n",
      "looking forward to receive all your file today  ,anil\n",
      "\n",
      "keep up the good work  ,sunil\n",
      "looking forward to receive all your file today  ,sunil\n",
      "\n",
      "keep up the good work  ,rosan\n",
      "looking forward to receive all your file today  ,rosan\n",
      "\n",
      "keep up the good work  ,baij\n",
      "looking forward to receive all your file today  ,baij\n",
      "\n",
      "keep up the good work  ,mohan\n",
      "looking forward to receive all your file today  ,mohan\n",
      "\n",
      "keep up the good work  ,vikas\n",
      "looking forward to receive all your file today  ,vikas\n",
      "\n",
      "keep up the good work  ,baij\n",
      "looking forward to receive all your file today  ,baij\n",
      "\n"
     ]
    }
   ],
   "source": [
    "for stu in students:\n",
    "    print(f'keep up the good work  ,{stu}')\n",
    "    print(f'looking forward to receive all your file today  ,{stu}\\n')"
   ]
  },
  {
   "cell_type": "code",
   "execution_count": 25,
   "metadata": {},
   "outputs": [
    {
     "name": "stdout",
     "output_type": "stream",
     "text": [
      "keep up the good work  ,anil\n",
      "looking forward to receive all your file today  ,anil\n",
      "thanks\n",
      "\n",
      "keep up the good work  ,sunil\n",
      "looking forward to receive all your file today  ,sunil\n",
      "thanks\n",
      "\n",
      "keep up the good work  ,rosan\n",
      "looking forward to receive all your file today  ,rosan\n",
      "thanks\n",
      "\n",
      "keep up the good work  ,baij\n",
      "looking forward to receive all your file today  ,baij\n",
      "thanks\n",
      "\n",
      "keep up the good work  ,mohan\n",
      "looking forward to receive all your file today  ,mohan\n",
      "thanks\n",
      "\n",
      "keep up the good work  ,vikas\n",
      "looking forward to receive all your file today  ,vikas\n",
      "thanks\n",
      "\n",
      "keep up the good work  ,baij\n",
      "looking forward to receive all your file today  ,baij\n",
      "thanks\n",
      "\n"
     ]
    }
   ],
   "source": [
    "for stu in students:\n",
    "    print(f'keep up the good work  ,{stu}')\n",
    "    print(f'looking forward to receive all your file today  ,{stu}')\n",
    "    print('thanks\\n')\n",
    "    "
   ]
  },
  {
   "cell_type": "code",
   "execution_count": 29,
   "metadata": {},
   "outputs": [
    {
     "name": "stdout",
     "output_type": "stream",
     "text": [
      "keep up the good work  ,anil\n",
      "looking forward to receive all your file today  ,anil\n",
      "\n",
      "keep up the good work  ,sunil\n",
      "looking forward to receive all your file today  ,sunil\n",
      "\n",
      "keep up the good work  ,rosan\n",
      "looking forward to receive all your file today  ,rosan\n",
      "\n",
      "keep up the good work  ,baij\n",
      "looking forward to receive all your file today  ,baij\n",
      "\n",
      "keep up the good work  ,mohan\n",
      "looking forward to receive all your file today  ,mohan\n",
      "\n",
      "keep up the good work  ,vikas\n",
      "looking forward to receive all your file today  ,vikas\n",
      "\n",
      "keep up the good work  ,baij\n",
      "looking forward to receive all your file today  ,baij\n",
      "\n",
      "thanks\n",
      "\n"
     ]
    }
   ],
   "source": [
    "for stu in students:\n",
    "    print(f'keep up the good work  ,{stu}')\n",
    "    print(f'looking forward to receive all your file today  ,{stu}\\n')\n",
    "print('thanks\\n')\n",
    "    "
   ]
  },
  {
   "cell_type": "code",
   "execution_count": 42,
   "metadata": {},
   "outputs": [
    {
     "name": "stdout",
     "output_type": "stream",
     "text": [
      "1\n",
      "2\n",
      "3\n",
      "4\n",
      "5\n",
      "6\n",
      "7\n",
      "8\n",
      "9\n",
      "10\n",
      "11\n",
      "12\n",
      "13\n",
      "14\n",
      "15\n",
      "16\n",
      "17\n",
      "18\n",
      "19\n"
     ]
    }
   ],
   "source": [
    "for value in range (1,20):\n",
    "    print(value)"
   ]
  },
  {
   "cell_type": "code",
   "execution_count": 45,
   "metadata": {},
   "outputs": [
    {
     "name": "stdout",
     "output_type": "stream",
     "text": [
      "[1, 2, 3, 4, 5, 6, 7, 8, 9, 10, 11, 12, 13, 14, 15, 16, 17, 18, 19]\n"
     ]
    }
   ],
   "source": [
    "num=list(range(1,20))\n",
    "print (num)"
   ]
  },
  {
   "cell_type": "code",
   "execution_count": null,
   "metadata": {},
   "outputs": [],
   "source": []
  }
 ],
 "metadata": {
  "kernelspec": {
   "display_name": "Python 3",
   "language": "python",
   "name": "python3"
  },
  "language_info": {
   "codemirror_mode": {
    "name": "ipython",
    "version": 3
   },
   "file_extension": ".py",
   "mimetype": "text/x-python",
   "name": "python",
   "nbconvert_exporter": "python",
   "pygments_lexer": "ipython3",
   "version": "3.7.6"
  }
 },
 "nbformat": 4,
 "nbformat_minor": 4
}
